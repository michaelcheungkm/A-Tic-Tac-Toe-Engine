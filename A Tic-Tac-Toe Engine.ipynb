{
 "cells": [
  {
   "cell_type": "markdown",
   "metadata": {},
   "source": [
    "## Playing Tic-Tac-Toe"
   ]
  },
  {
   "cell_type": "code",
   "execution_count": 26,
   "metadata": {},
   "outputs": [],
   "source": [
    "import numpy as np\n",
    "import copy\n",
    "import random\n",
    "import pygame as pg\n",
    "import sys\n",
    "import time"
   ]
  },
  {
   "cell_type": "code",
   "execution_count": 27,
   "metadata": {},
   "outputs": [],
   "source": [
    "def init_Board():\n",
    "    return [[0,0,0],[0,0,0],[0,0,0]]"
   ]
  },
  {
   "cell_type": "markdown",
   "metadata": {},
   "source": [
    "Empty Tic-Tac-Toe Board. 0 - Empty square. 1 - Square filled by X. -1 - Square filled by O."
   ]
  },
  {
   "cell_type": "code",
   "execution_count": 28,
   "metadata": {},
   "outputs": [
    {
     "data": {
      "text/plain": [
       "[[0, 0, 0], [0, 0, 0], [0, 0, 0]]"
      ]
     },
     "execution_count": 28,
     "metadata": {},
     "output_type": "execute_result"
    }
   ],
   "source": [
    "S = init_Board()\n",
    "S"
   ]
  },
  {
   "cell_type": "code",
   "execution_count": 29,
   "metadata": {},
   "outputs": [
    {
     "data": {
      "text/plain": [
       "[0, 0, 0, 0, 0, 0, 0, 0, 0]"
      ]
     },
     "execution_count": 29,
     "metadata": {},
     "output_type": "execute_result"
    }
   ],
   "source": [
    "sum(S,[])"
   ]
  },
  {
   "cell_type": "code",
   "execution_count": 30,
   "metadata": {},
   "outputs": [],
   "source": [
    "def serialize_board(board):\n",
    "        return sum(board,[])"
   ]
  },
  {
   "cell_type": "code",
   "execution_count": 31,
   "metadata": {},
   "outputs": [],
   "source": [
    "def get_winner(board):\n",
    "    # Diagonals\n",
    "    if ((board[0][0] == board[1][1] and board[1][1] == board[2][2]) \\\n",
    "            or (board[0][2] == board[1][1] and board[1][1] == board[2][0])) and board[1][1] != 0:\n",
    "        return board[1][1]\n",
    "    for i in range(3):\n",
    "        if board[i][0] == board[i][1] and board[i][1] == board[i][2] and board[i][0] != 0:  # Rows\n",
    "            return board[i][0]\n",
    "        if board[0][i] == board[1][i] and board[1][i] == board[2][i] and board[0][i] != 0:  # Columns\n",
    "            return board[0][i]\n",
    "    return 0"
   ]
  },
  {
   "cell_type": "code",
   "execution_count": 32,
   "metadata": {},
   "outputs": [
    {
     "data": {
      "text/plain": [
       "1"
      ]
     },
     "execution_count": 32,
     "metadata": {},
     "output_type": "execute_result"
    }
   ],
   "source": [
    "get_winner([[1,-1,0],\n",
    "            [-1,1,-1],\n",
    "            [0,1,1]])"
   ]
  },
  {
   "cell_type": "code",
   "execution_count": 33,
   "metadata": {},
   "outputs": [
    {
     "data": {
      "text/plain": [
       "1"
      ]
     },
     "execution_count": 33,
     "metadata": {},
     "output_type": "execute_result"
    }
   ],
   "source": [
    "board = [[1,-1,0],\n",
    "         [-1,1,-1],\n",
    "         [0,1,1]]\n",
    "sum(serialize_board(board))"
   ]
  },
  {
   "cell_type": "code",
   "execution_count": 34,
   "metadata": {},
   "outputs": [
    {
     "data": {
      "text/plain": [
       "[1, -1, 0, -1, 1, -1, 0, 1, 1]"
      ]
     },
     "execution_count": 34,
     "metadata": {},
     "output_type": "execute_result"
    }
   ],
   "source": [
    "serialize_board(board)"
   ]
  },
  {
   "cell_type": "code",
   "execution_count": 35,
   "metadata": {},
   "outputs": [],
   "source": [
    "def valid_board(board):\n",
    "    if sum(serialize_board(board)) in [1,-1,0]:\n",
    "        return True\n",
    "    else:\n",
    "        return False"
   ]
  },
  {
   "cell_type": "code",
   "execution_count": 36,
   "metadata": {},
   "outputs": [
    {
     "data": {
      "text/plain": [
       "True"
      ]
     },
     "execution_count": 36,
     "metadata": {},
     "output_type": "execute_result"
    }
   ],
   "source": [
    "valid_board(board)"
   ]
  },
  {
   "cell_type": "code",
   "execution_count": 37,
   "metadata": {},
   "outputs": [
    {
     "data": {
      "text/plain": [
       "1"
      ]
     },
     "execution_count": 37,
     "metadata": {},
     "output_type": "execute_result"
    }
   ],
   "source": [
    "7%3"
   ]
  },
  {
   "cell_type": "code",
   "execution_count": 38,
   "metadata": {},
   "outputs": [],
   "source": [
    "def generate_legal_moves(board):\n",
    "    \"\"\"\n",
    "    board is represented by\n",
    "    [[0,1,2],\n",
    "     [3,4,5],\n",
    "     [6,7,8]]\n",
    "    \"\"\"\n",
    "    if get_winner(board) == 0:\n",
    "        sb = serialize_board(board)\n",
    "        zero_pos = [i for i in range(len(sb)) if sb[i]==0]\n",
    "        pos = [(x//3,x%3) for x in zero_pos]\n",
    "        return pos\n",
    "    else:\n",
    "        return None"
   ]
  },
  {
   "cell_type": "code",
   "execution_count": 39,
   "metadata": {},
   "outputs": [
    {
     "data": {
      "text/plain": [
       "[(0, 1), (0, 2), (2, 0), (2, 2)]"
      ]
     },
     "execution_count": 39,
     "metadata": {},
     "output_type": "execute_result"
    }
   ],
   "source": [
    "board = [[1,0,0],\n",
    "         [-1,1,-1],\n",
    "         [0,1,0]]\n",
    "generate_legal_moves(board)"
   ]
  },
  {
   "cell_type": "code",
   "execution_count": 40,
   "metadata": {},
   "outputs": [],
   "source": [
    "def score(board,side):\n",
    "    pos = generate_legal_moves(board)\n",
    "    scores = []\n",
    "    for i,j in pos:\n",
    "        nb = copy.deepcopy(board)\n",
    "        nb[i][j] = side\n",
    "        s = 0\n",
    "        lj = [0,1,2]\n",
    "        lj = [x for x in lj if x != j]\n",
    "        if ((nb[i][lj[0]]==side) and (nb[i][lj[1]]==0)) or ((nb[i][lj[1]]==side) and (nb[i][lj[0]]==0)) or ((nb[i][lj[1]]==0) and (nb[i][lj[0]]==0)):\n",
    "            s = s+1\n",
    "        if ((nb[i][lj[1]]==-side) and (nb[i][lj[0]]==-side)) or ((nb[i][lj[1]]==side) and (nb[i][lj[0]]==side)):\n",
    "            s = s+10\n",
    "        li = [0,1,2]\n",
    "        li = [x for x in li if x != i]\n",
    "        if ((nb[li[0]][j]==side) and (nb[li[1]][j]==0)) or ((nb[li[1]][j]==side) and (nb[li[0]][j]==0)) or ((nb[li[1]][j]==0) and (nb[li[0]][j]==0)):\n",
    "            s = s+1\n",
    "        if ((nb[li[0]][j]==-side) and (nb[li[1]][j]==-side)) or ((nb[li[0]][j]==side) and (nb[li[1]][j]==side)):\n",
    "            s = s+10\n",
    "        if (i,j) in [(0,0),(1,1),(2,2)]:\n",
    "            lij = [(0,0),(1,1),(2,2)]\n",
    "            lij = [x for x in lij if x != (i,j)]\n",
    "            if ((nb[lij[0][0]][lij[0][1]]==side) and (nb[lij[1][0]][lij[1][1]]==0)) or ((nb[lij[1][0]][lij[1][1]]==side) and (nb[lij[0][0]][lij[0][1]]==0)) or ((nb[lij[0][0]][lij[0][1]]==0) and (nb[lij[1][0]][lij[1][1]]==0)):\n",
    "                s = s+1\n",
    "            if ((nb[lij[0][0]][lij[0][1]]==-side) and (nb[lij[1][0]][lij[1][1]]==-side)) or ((nb[lij[0][0]][lij[0][1]]==side) and (nb[lij[1][0]][lij[1][1]]==side)):\n",
    "                s = s+10\n",
    "            s = s+0.5\n",
    "        if (i,j) in [(0,2),(1,1),(2,0)]:\n",
    "            lij = [(0,2),(1,1),(2,0)]\n",
    "            lij = [x for x in lij if x != (i,j)]\n",
    "            if ((nb[lij[0][0]][lij[0][1]]==side) and (nb[lij[1][0]][lij[1][1]]==0)) or ((nb[lij[1][0]][lij[1][1]]==side) and (nb[lij[0][0]][lij[0][1]]==0)) or ((nb[lij[0][0]][lij[0][1]]==0) and (nb[lij[1][0]][lij[1][1]]==0)):\n",
    "                s = s+1\n",
    "            if ((nb[lij[0][0]][lij[0][1]]==-side) and (nb[lij[1][0]][lij[1][1]]==-side)) or ((nb[lij[0][0]][lij[0][1]]==side) and (nb[lij[1][0]][lij[1][1]]==side)):\n",
    "                s = s+10\n",
    "            s = s+0.5\n",
    "        scores.append((i,j,s))\n",
    "    return scores"
   ]
  },
  {
   "cell_type": "code",
   "execution_count": 41,
   "metadata": {},
   "outputs": [
    {
     "data": {
      "text/plain": [
       "[(0, 1, 10), (0, 2, 1.5), (2, 0, 0.5), (2, 2, 11.5)]"
      ]
     },
     "execution_count": 41,
     "metadata": {},
     "output_type": "execute_result"
    }
   ],
   "source": [
    "score(board,-1)"
   ]
  },
  {
   "cell_type": "code",
   "execution_count": 42,
   "metadata": {},
   "outputs": [],
   "source": [
    "def play_a_game():\n",
    "    S = init_Board()\n",
    "    side = random.randint(-1,1)\n",
    "    Boards = []\n",
    "    stp = 0\n",
    "    while stp == 0:\n",
    "        side = (-1)*side\n",
    "        scores = score(S,side)\n",
    "        max_sc = max([c for _,_,c in scores])\n",
    "        best_pos = [(a,b) for a,b,c in scores if c==max_sc]\n",
    "        move = random.choice(best_pos)\n",
    "        S[move[0]][move[1]] = side\n",
    "        Boards.append(move)\n",
    "        SS = sum(S,[])\n",
    "        r = sum([abs(x) for x in SS])\n",
    "        if r > 8:\n",
    "            stp = 1\n",
    "        elif get_winner(S) != 0:\n",
    "            stp = 1\n",
    "    return(Boards)"
   ]
  },
  {
   "cell_type": "code",
   "execution_count": 43,
   "metadata": {},
   "outputs": [
    {
     "data": {
      "text/plain": [
       "[(1, 1), (0, 2), (2, 0), (0, 0), (0, 1), (2, 1), (1, 0), (1, 2), (2, 2)]"
      ]
     },
     "execution_count": 43,
     "metadata": {},
     "output_type": "execute_result"
    }
   ],
   "source": [
    "play_a_game()"
   ]
  },
  {
   "cell_type": "code",
   "execution_count": 44,
   "metadata": {},
   "outputs": [],
   "source": [
    "def suggest_next_move(board,side):\n",
    "    if get_winner(board) == side:\n",
    "        return 'winner is '+str(side)\n",
    "    else:\n",
    "        scores = score(board,side)\n",
    "        max_sc = max([c for _,_,c in scores])\n",
    "        best_pos = [(a,b) for a,b,c in scores if c==max_sc]\n",
    "        return best_pos"
   ]
  },
  {
   "cell_type": "code",
   "execution_count": 45,
   "metadata": {},
   "outputs": [
    {
     "data": {
      "text/plain": [
       "[(1, 0)]"
      ]
     },
     "execution_count": 45,
     "metadata": {},
     "output_type": "execute_result"
    }
   ],
   "source": [
    "board = [[-1,0,0],[0,1,0],[-1,0,0]]\n",
    "suggest_next_move(board,1)"
   ]
  },
  {
   "cell_type": "markdown",
   "metadata": {},
   "source": [
    "Play with a player"
   ]
  },
  {
   "cell_type": "code",
   "execution_count": 46,
   "metadata": {},
   "outputs": [],
   "source": [
    "def map_mouse_to_board(x, y):\n",
    "    if x < gameSize / 3:\n",
    "        column = 0\n",
    "    elif gameSize / 3 <= x < (gameSize / 3) * 2:\n",
    "        column = 1\n",
    "    else:\n",
    "        column = 2\n",
    "    if y < gameSize / 3:\n",
    "        row = 0\n",
    "    elif gameSize / 3 <= y < (gameSize / 3) * 2:\n",
    "        row = 1\n",
    "    else:\n",
    "        row = 2\n",
    "    return column, row"
   ]
  },
  {
   "cell_type": "code",
   "execution_count": 47,
   "metadata": {},
   "outputs": [],
   "source": [
    "def draw_board(board):\n",
    "    myFont = pg.font.SysFont('Tahoma', gameSize // 3)\n",
    "    for y in range(3):\n",
    "        for x in range(3):\n",
    "            if board[y][x] == 1:\n",
    "                color = xColor\n",
    "                mark = xMark\n",
    "                text_surface = myFont.render(mark, False, color)\n",
    "                screen.blit(text_surface, (y * (gameSize // 3) + margin + (gameSize // 12), \n",
    "                                           x * (gameSize // 3) + margin))\n",
    "            elif board[y][x] == -1:\n",
    "                color = oColor\n",
    "                mark = oMark\n",
    "                text_surface = myFont.render(mark, False, color)\n",
    "                screen.blit(text_surface, (y * (gameSize // 3) + margin + (gameSize // 12), \n",
    "                                           x * (gameSize // 3) + margin))"
   ]
  },
  {
   "cell_type": "code",
   "execution_count": 48,
   "metadata": {},
   "outputs": [],
   "source": [
    "def is_full(board):\n",
    "    SS = sum(board,[])\n",
    "    r = sum([abs(x) for x in SS])\n",
    "    if r > 8:\n",
    "        return True\n",
    "    else:\n",
    "        return False"
   ]
  },
  {
   "cell_type": "code",
   "execution_count": 49,
   "metadata": {},
   "outputs": [],
   "source": [
    "def draw_lines():\n",
    "    # Vertical lines\n",
    "    pg.draw.line(screen, lineColor, (margin + gameSize // 3, margin),\n",
    "                 (margin + gameSize // 3, screenSize - margin), lineSize)\n",
    "    pg.draw.line(screen, lineColor, (margin + (gameSize // 3) * 2, margin),\n",
    "                 (margin + (gameSize // 3) * 2, screenSize - margin), lineSize)\n",
    "    # Horizontal lines\n",
    "    pg.draw.line(screen, lineColor, (margin, margin + gameSize // 3), \n",
    "                 (screenSize - margin, margin + gameSize // 3),lineSize)\n",
    "    pg.draw.line(screen, lineColor, (margin, margin + (gameSize // 3) * 2),\n",
    "                 (screenSize - margin, margin + (gameSize // 3) * 2), lineSize)"
   ]
  },
  {
   "cell_type": "code",
   "execution_count": 50,
   "metadata": {},
   "outputs": [],
   "source": [
    "screenSize = 800\n",
    "margin = 20\n",
    "gameSize = 800 - (2 * margin)\n",
    "lineSize = 5"
   ]
  },
  {
   "cell_type": "code",
   "execution_count": 51,
   "metadata": {},
   "outputs": [],
   "source": [
    "backgroundColor = (0, 0, 0)\n",
    "lineColor = (255, 255, 255)\n",
    "xColor = (200, 0, 0)\n",
    "oColor = (0, 0, 200)"
   ]
  },
  {
   "cell_type": "code",
   "execution_count": 52,
   "metadata": {},
   "outputs": [],
   "source": [
    "xMark = 'X'\n",
    "oMark = 'O'\n",
    "board = init_Board()"
   ]
  },
  {
   "cell_type": "code",
   "execution_count": 53,
   "metadata": {},
   "outputs": [
    {
     "data": {
      "text/plain": [
       "<rect(0, 0, 800, 800)>"
      ]
     },
     "execution_count": 53,
     "metadata": {},
     "output_type": "execute_result"
    }
   ],
   "source": [
    "pg.init()\n",
    "screen = pg.display.set_mode((screenSize, screenSize))\n",
    "pg.display.set_caption(\"Tic Tac Toe\")\n",
    "pg.font.init()\n",
    "myFont = pg.font.SysFont('Tahoma', gameSize // 3)\n",
    "screen.fill(backgroundColor)"
   ]
  },
  {
   "cell_type": "code",
   "execution_count": 54,
   "metadata": {},
   "outputs": [],
   "source": [
    "canPlay = True"
   ]
  },
  {
   "cell_type": "code",
   "execution_count": 55,
   "metadata": {},
   "outputs": [],
   "source": [
    "draw_lines()"
   ]
  },
  {
   "cell_type": "code",
   "execution_count": 56,
   "metadata": {},
   "outputs": [
    {
     "ename": "SystemExit",
     "evalue": "",
     "output_type": "error",
     "traceback": [
      "An exception has occurred, use %tb to see the full traceback.\n",
      "\u001b[1;31mSystemExit\u001b[0m\n"
     ]
    },
    {
     "name": "stderr",
     "output_type": "stream",
     "text": [
      "C:\\Users\\simonkc\\AppData\\Local\\Continuum\\anaconda3\\envs\\pg\\lib\\site-packages\\IPython\\core\\interactiveshell.py:3334: UserWarning: To exit: use 'exit', 'quit', or Ctrl-D.\n",
      "  warn(\"To exit: use 'exit', 'quit', or Ctrl-D.\", stacklevel=1)\n"
     ]
    }
   ],
   "source": [
    "while True:\n",
    "    for event in pg.event.get():\n",
    "        if event.type == pg.QUIT:\n",
    "            pg.quit()\n",
    "            sys.exit()\n",
    "        if event.type == pg.KEYDOWN:\n",
    "            if event.key == pg.K_r:\n",
    "                board = init_Board()\n",
    "                screen.fill(backgroundColor)\n",
    "                draw_lines()\n",
    "                canPlay = True\n",
    "            if event.key == pg.K_ESCAPE:\n",
    "                pg.quit()\n",
    "                sys.exit()\n",
    "        if event.type is pg.MOUSEBUTTONDOWN and canPlay:\n",
    "            (mouseX, mouseY) = pg.mouse.get_pos()\n",
    "            (column, row) = map_mouse_to_board(mouseX, mouseY)\n",
    "            if board[column][row] == 0:\n",
    "                board[column][row] = 1\n",
    "                draw_board(board)\n",
    "                winner = get_winner(board)\n",
    "                if winner != 0:\n",
    "                    myFont = pg.font.SysFont('Tahoma', screenSize // 5)\n",
    "                    if winner==1:\n",
    "                        text_surface = myFont.render(xMark + \" has won!\", False, lineColor)\n",
    "                    else:\n",
    "                        text_surface = myFont.render(oMark + \" has won!\", False, lineColor)\n",
    "                    screen.blit(text_surface, (margin, screenSize // 2 - screenSize // 10))\n",
    "                    canPlay = False\n",
    "                    pg.display.update()\n",
    "                elif is_full(board):\n",
    "                        myFont = pg.font.SysFont('Tahoma', screenSize // 5)\n",
    "                        text_surface = myFont.render(\"Draw!\", False, lineColor)\n",
    "                        screen.blit(text_surface, (screenSize // 10, screenSize // 2 - screenSize // 10))\n",
    "                        pg.display.update()\n",
    "                else:\n",
    "                    pg.display.update()\n",
    "                    oMove = random.choice(suggest_next_move(board,-1))\n",
    "                    board[oMove[0]][oMove[1]] = -1\n",
    "                    draw_board(board)\n",
    "                    winner = get_winner(board)\n",
    "                    if winner != 0:\n",
    "                        myFont = pg.font.SysFont('Tahoma', screenSize // 5)\n",
    "                        if winner==1:\n",
    "                            text_surface = myFont.render(xMark + \" has won!\", False, lineColor)\n",
    "                        else:\n",
    "                            text_surface = myFont.render(oMark + \" has won!\", False, lineColor)\n",
    "                        screen.blit(text_surface, (margin, screenSize // 2 - screenSize // 10))\n",
    "                        canPlay = False\n",
    "                    elif is_full(board):\n",
    "                            myFont = pg.font.SysFont('Tahoma', screenSize // 5)\n",
    "                            text_surface = myFont.render(\"Draw!\", False, lineColor)\n",
    "                            screen.blit(text_surface, (screenSize // 10, screenSize // 2 - screenSize // 10))\n",
    "                    pg.display.update()"
   ]
  },
  {
   "cell_type": "code",
   "execution_count": null,
   "metadata": {},
   "outputs": [],
   "source": []
  }
 ],
 "metadata": {
  "kernelspec": {
   "display_name": "Python 3",
   "language": "python",
   "name": "python3"
  },
  "language_info": {
   "codemirror_mode": {
    "name": "ipython",
    "version": 3
   },
   "file_extension": ".py",
   "mimetype": "text/x-python",
   "name": "python",
   "nbconvert_exporter": "python",
   "pygments_lexer": "ipython3",
   "version": "3.7.1"
  }
 },
 "nbformat": 4,
 "nbformat_minor": 2
}
